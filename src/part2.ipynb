{
 "cells": [
  {
   "cell_type": "code",
   "execution_count": null,
   "id": "b072b85b",
   "metadata": {},
   "outputs": [],
   "source": [
    "import numpy as np\n",
    "import scipy as sp\n",
    "import scipy.linalg as linalg\n",
    "import torch\n",
    "import matplotlib.pyplot as plt\n",
    "import imageio\n",
    "from qutip import (fock, coherent, basis, destroy, qeye, tensor, wigner, mesolve, ptrace)\n",
    "\n",
    "import pickle\n",
    "im"
   ]
  },
  {
   "cell_type": "markdown",
   "id": "a3df4387",
   "metadata": {},
   "source": [
    "## Task A"
   ]
  },
  {
   "cell_type": "code",
   "execution_count": null,
   "id": "bc3727bb",
   "metadata": {},
   "outputs": [],
   "source": [
    "# depickle the data located at '../data/synthetic/... pickle files\n",
    "# and save them as .npy files\n",
    "\n",
    "data = pickle.load(open('../data/synthetic/noisy_wigner_0.pickle', 'rb'))\n",
    "\n"
   ]
  }
 ],
 "metadata": {
  "kernelspec": {
   "display_name": ".venv",
   "language": "python",
   "name": "python3"
  },
  "language_info": {
   "codemirror_mode": {
    "name": "ipython",
    "version": 3
   },
   "file_extension": ".py",
   "mimetype": "text/x-python",
   "name": "python",
   "nbconvert_exporter": "python",
   "pygments_lexer": "ipython3",
   "version": "3.12.8"
  }
 },
 "nbformat": 4,
 "nbformat_minor": 5
}
